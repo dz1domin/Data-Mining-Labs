{
 "cells": [
  {
   "cell_type": "code",
   "execution_count": 12,
   "metadata": {
    "collapsed": true
   },
   "outputs": [],
   "source": [
    "import pandas as pd\n",
    "from surprise import Dataset\n",
    "from surprise import Reader\n",
    "from scipy import io\n",
    "from surprise.prediction_algorithms.knns import KNNBasic\n",
    "from surprise.prediction_algorithms.knns import KNNWithMeans\n",
    "import numpy as np"
   ]
  },
  {
   "cell_type": "code",
   "execution_count": 13,
   "outputs": [],
   "source": [
    "data = io.loadmat(\"each_movie_data.mat\")\n",
    "\n",
    "movie_by_id = {}\n",
    "with open(\"movie_ids.txt\", \"r\") as file:\n",
    "    for line in file:\n",
    "        line = line.split(\" \", 1)\n",
    "        movie_by_id[int(line[0]) - 1] = line[1]"
   ],
   "metadata": {
    "collapsed": false,
    "pycharm": {
     "name": "#%%\n"
    }
   }
  },
  {
   "cell_type": "code",
   "execution_count": 14,
   "outputs": [],
   "source": [
    "my_ratings = np.zeros(1682)\n",
    "my_ratings[205] = 3.0\n",
    "my_ratings[270] = 5.0\n",
    "my_ratings[264] = 3.5\n",
    "my_ratings[323] = 4.25\n",
    "my_ratings[635] = 4.0\n",
    "my_ratings[0] = 3.5\n",
    "my_ratings[21] = 3.0\n",
    "my_ratings[28] = 3.0\n",
    "my_ratings[55] = 4.0\n",
    "my_ratings[63] = 4.5\n",
    "my_ratings[66] = 4.0\n",
    "my_ratings[88] = 4.5\n",
    "my_ratings[93] = 3.5\n",
    "my_ratings[167] = 4.5\n",
    "my_ratings[153] = 4.5\n",
    "my_ratings[540] = 1.0\n",
    "my_ratings[626] = 2.5\n",
    "my_ratings[754] = 3.0\n",
    "my_ratings[779] = 2.0\n",
    "my_ratings[889] = 1.5\n",
    "my_ratings[169] = 5.0\n",
    "\n",
    "my_rated = np.array([1 if my_ratings[i] > 0 else 0 for i in range(0, my_ratings.shape[0])])\n",
    "\n",
    "my_user_id = data[\"Y\"].shape[1]\n",
    "\n",
    "data[\"Y\"] = np.append(data[\"Y\"], my_ratings.reshape(-1, 1), axis=1)\n",
    "data[\"R\"] = np.append(data[\"R\"], my_rated.reshape(-1, 1), axis=1)"
   ],
   "metadata": {
    "collapsed": false,
    "pycharm": {
     "name": "#%%\n"
    }
   }
  },
  {
   "cell_type": "code",
   "execution_count": 15,
   "outputs": [],
   "source": [
    "user_count = len(data['Y'][0])\n",
    "movie_count = len(data['Y'])\n",
    "size = user_count * movie_count\n",
    "data_arr = []\n",
    "\n",
    "for user_index in range(user_count):\n",
    "    for movie_index in range(movie_count):\n",
    "        data_arr.append([user_index, movie_index, data['Y'][movie_index][user_index]])\n",
    "\n",
    "dataset = pd.DataFrame(data_arr, columns=[\"userID\", \"itemID\", \"rating\"])"
   ],
   "metadata": {
    "collapsed": false,
    "pycharm": {
     "name": "#%%\n"
    }
   }
  },
  {
   "cell_type": "code",
   "execution_count": 16,
   "outputs": [],
   "source": [
    "surprise_data = Dataset.load_from_df(dataset[['userID', 'itemID', 'rating']], Reader(rating_scale=(0, 5)))\n",
    "\n",
    "my_rating_ids = dataset[(dataset[\"userID\"] == my_user_id) & (dataset['rating'] > 0.0)]['itemID'].to_numpy()\n",
    "all_rating_ids = dataset['itemID'].unique()\n",
    "ids_to_predict = np.setdiff1d(all_rating_ids, my_rating_ids)"
   ],
   "metadata": {
    "collapsed": false,
    "pycharm": {
     "name": "#%%\n"
    }
   }
  },
  {
   "cell_type": "code",
   "execution_count": 17,
   "outputs": [],
   "source": [
    "trainset = surprise_data.build_full_trainset()"
   ],
   "metadata": {
    "collapsed": false,
    "pycharm": {
     "name": "#%%\n"
    }
   }
  },
  {
   "cell_type": "code",
   "execution_count": 18,
   "outputs": [
    {
     "name": "stdout",
     "output_type": "stream",
     "text": [
      "Computing the msd similarity matrix...\n",
      "Done computing similarity matrix.\n"
     ]
    },
    {
     "data": {
      "text/plain": "<surprise.prediction_algorithms.knns.KNNBasic at 0x1c3ad785640>"
     },
     "execution_count": 18,
     "metadata": {},
     "output_type": "execute_result"
    }
   ],
   "source": [
    "algo = KNNBasic(k=10, sim_options={'user_based': True})\n",
    "\n",
    "algo.fit(trainset)"
   ],
   "metadata": {
    "collapsed": false,
    "pycharm": {
     "name": "#%%\n"
    }
   }
  },
  {
   "cell_type": "code",
   "execution_count": 19,
   "outputs": [],
   "source": [
    "recommends = []\n",
    "for movie in ids_to_predict:\n",
    "    recommends.append([movie, algo.predict(uid=my_user_id, iid=movie).est])\n",
    "\n",
    "recommends = pd.DataFrame(recommends, columns=['Movie id', 'Score']).sort_values('Score', ascending=False)"
   ],
   "metadata": {
    "collapsed": false,
    "pycharm": {
     "name": "#%%\n"
    }
   }
  },
  {
   "cell_type": "code",
   "execution_count": 20,
   "outputs": [
    {
     "name": "stdout",
     "output_type": "stream",
     "text": [
      "Recommendations for KKNBasic\n",
      "Movie: Chasing Amy (1997) with score 1.466420\n",
      "Movie: Good Will Hunting (1997) with score 1.361157\n",
      "Movie: FairyTale: A True Story (1997) with score 1.266515\n",
      "Movie: Devil's Advocate, The (1997) with score 1.261284\n",
      "Movie: Queen Margot (Reine Margot, La) (1994) with score 1.164451\n",
      "Movie: Rainmaker, The (1997) with score 1.079269\n",
      "Movie: Evita (1996) with score 1.071015\n",
      "Movie: Ice Storm, The (1997) with score 1.070345\n",
      "Movie: Sense and Sensibility (1995) with score 0.983317\n",
      "Movie: Sabrina (1995) with score 0.977554\n",
      "Movie: Maverick (1994) with score 0.971617\n",
      "Movie: Scream (1996) with score 0.884735\n",
      "Movie: Up Close and Personal (1996) with score 0.876407\n",
      "Movie: Rosewood (1997) with score 0.868968\n",
      "Movie: Ed Wood (1994) with score 0.868712\n",
      "Movie: Return of the Pink Panther, The (1974) with score 0.868712\n",
      "Movie: Midnight in the Garden of Good and Evil (1997) with score 0.785364\n",
      "Movie: Deceiver (1997) with score 0.782037\n",
      "Movie: Fried Green Tomatoes (1991) with score 0.775338\n",
      "Movie: Marvin's Room (1996) with score 0.689818\n"
     ]
    }
   ],
   "source": [
    "top_20 = recommends.head(20)\n",
    "\n",
    "print('Recommendations for KKNBasic')\n",
    "for idx, row in top_20.iterrows():\n",
    "    print(\"Movie: %s with score %lf\"%(movie_by_id[idx].replace('\\n', ''), row['Score']))"
   ],
   "metadata": {
    "collapsed": false,
    "pycharm": {
     "name": "#%%\n"
    }
   }
  },
  {
   "cell_type": "code",
   "execution_count": 21,
   "outputs": [
    {
     "name": "stdout",
     "output_type": "stream",
     "text": [
      "Computing the msd similarity matrix...\n",
      "Done computing similarity matrix.\n"
     ]
    },
    {
     "data": {
      "text/plain": "<surprise.prediction_algorithms.knns.KNNWithMeans at 0x1c3d1ce7c40>"
     },
     "execution_count": 21,
     "metadata": {},
     "output_type": "execute_result"
    }
   ],
   "source": [
    "algo = KNNWithMeans(k=10, sim_options={'user_based': True})\n",
    "algo.fit(trainset)"
   ],
   "metadata": {
    "collapsed": false,
    "pycharm": {
     "name": "#%%\n"
    }
   }
  },
  {
   "cell_type": "code",
   "execution_count": 22,
   "outputs": [
    {
     "name": "stdout",
     "output_type": "stream",
     "text": [
      "Recommendations for KKNWithMeans\n",
      "Movie: Chasing Amy (1997) with score 1.474575\n",
      "Movie: Good Will Hunting (1997) with score 1.369312\n",
      "Movie: FairyTale: A True Story (1997) with score 1.274670\n",
      "Movie: Devil's Advocate, The (1997) with score 1.269439\n",
      "Movie: Queen Margot (Reine Margot, La) (1994) with score 1.172606\n",
      "Movie: Rainmaker, The (1997) with score 1.087425\n",
      "Movie: Evita (1996) with score 1.079170\n",
      "Movie: Ice Storm, The (1997) with score 1.078501\n",
      "Movie: Sense and Sensibility (1995) with score 0.991472\n",
      "Movie: Sabrina (1995) with score 0.985709\n",
      "Movie: Maverick (1994) with score 0.979772\n",
      "Movie: Scream (1996) with score 0.892890\n",
      "Movie: Up Close and Personal (1996) with score 0.884562\n",
      "Movie: Rosewood (1997) with score 0.877124\n",
      "Movie: Ed Wood (1994) with score 0.876868\n",
      "Movie: Return of the Pink Panther, The (1974) with score 0.876868\n",
      "Movie: Midnight in the Garden of Good and Evil (1997) with score 0.793519\n",
      "Movie: Deceiver (1997) with score 0.790193\n",
      "Movie: Fried Green Tomatoes (1991) with score 0.783493\n",
      "Movie: Marvin's Room (1996) with score 0.697973\n"
     ]
    }
   ],
   "source": [
    "recommends = []\n",
    "for movie in ids_to_predict:\n",
    "    recommends.append([movie, algo.predict(uid=my_user_id, iid=movie).est])\n",
    "\n",
    "recommends = pd.DataFrame(recommends, columns=['Movie id', 'Score']).sort_values('Score', ascending=False)\n",
    "top_20 = recommends.head(20)\n",
    "\n",
    "print('Recommendations for KKNWithMeans')\n",
    "for idx, row in top_20.iterrows():\n",
    "    print(\"Movie: %s with score %lf\"%(movie_by_id[idx].replace('\\n', ''), row['Score']))"
   ],
   "metadata": {
    "collapsed": false,
    "pycharm": {
     "name": "#%%\n"
    }
   }
  }
 ],
 "metadata": {
  "kernelspec": {
   "name": "python3",
   "language": "python",
   "display_name": "Python 3"
  },
  "language_info": {
   "codemirror_mode": {
    "name": "ipython",
    "version": 2
   },
   "file_extension": ".py",
   "mimetype": "text/x-python",
   "name": "python",
   "nbconvert_exporter": "python",
   "pygments_lexer": "ipython2",
   "version": "2.7.6"
  }
 },
 "nbformat": 4,
 "nbformat_minor": 0
}