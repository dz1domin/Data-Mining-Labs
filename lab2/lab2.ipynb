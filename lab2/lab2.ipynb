{
 "cells": [
  {
   "cell_type": "code",
   "execution_count": 29,
   "outputs": [],
   "source": [
    "import pandas as pd\n",
    "import numpy as np\n",
    "from sklearn.impute import KNNImputer\n"
   ],
   "metadata": {
    "collapsed": false,
    "pycharm": {
     "name": "#%%\n"
    }
   }
  },
  {
   "cell_type": "code",
   "execution_count": 30,
   "outputs": [
    {
     "name": "stdout",
     "output_type": "stream",
     "text": [
      "<class 'pandas.core.frame.DataFrame'>\n",
      "Int64Index: 212 entries, 0 to 211\n",
      "Data columns (total 15 columns):\n",
      " #   Column                                 Non-Null Count  Dtype  \n",
      "---  ------                                 --------------  -----  \n",
      " 0   countriesAndTerritories                212 non-null    object \n",
      " 1   countryterritoryCode                   212 non-null    object \n",
      " 2   percent_of_oct_cases_in_oct_and_sept   208 non-null    float64\n",
      " 3   percent_of_oct_deaths_in_oct_and_sept  173 non-null    float64\n",
      " 4   cases_since_sept_per100k               212 non-null    float64\n",
      " 5   deaths_since_sept_per100k              212 non-null    float64\n",
      " 6   avg_temp                               171 non-null    float64\n",
      " 7   gdp_per_capita                         200 non-null    float64\n",
      " 8   pop_density                            201 non-null    float64\n",
      " 9   med_beds                               189 non-null    float64\n",
      " 10  physicians                             194 non-null    float64\n",
      " 11  pop_above_65                           184 non-null    float64\n",
      " 12  traffic_mortality                      168 non-null    float64\n",
      " 13  PM25                                   187 non-null    float64\n",
      " 14  popData2019                            212 non-null    float64\n",
      "dtypes: float64(13), object(2)\n",
      "memory usage: 26.5+ KB\n"
     ]
    }
   ],
   "source": [
    "dataset = pd.read_pickle('final_dataset.pkl')\n",
    "\n",
    "popData = pd.read_excel('COVID-19-geographic-disbtribution-worldwide.xlsx')\n",
    "popData = popData.groupby(['countriesAndTerritories', 'countryterritoryCode', 'popData2019'], as_index=False)[['cases', 'deaths']].sum()\n",
    "dataset['popData2019'] = popData.popData2019\n",
    "dataset.info()"
   ],
   "metadata": {
    "collapsed": false,
    "pycharm": {
     "name": "#%%\n"
    }
   }
  },
  {
   "cell_type": "markdown",
   "source": [
    "Statystyki dla kolumn"
   ],
   "metadata": {
    "collapsed": false,
    "pycharm": {
     "name": "#%% md\n"
    }
   }
  },
  {
   "cell_type": "code",
   "execution_count": 31,
   "outputs": [
    {
     "data": {
      "text/plain": "       percent_of_oct_cases_in_oct_and_sept  \\\ncount                            208.000000   \nmean                               0.682832   \nstd                                0.207900   \nmin                                0.000000   \n25%                                0.549460   \n50%                                0.694502   \n75%                                0.852532   \nmax                                1.000000   \n\n       percent_of_oct_deaths_in_oct_and_sept  cases_since_sept_per100k  \\\ncount                             173.000000                212.000000   \nmean                                0.661124                632.542397   \nstd                                 0.253320                934.702442   \nmin                                 0.000000                  0.000000   \n25%                                 0.513710                 16.113487   \n50%                                 0.666667                178.221356   \n75%                                 0.871287                914.870612   \nmax                                 1.000000               6232.852436   \n\n       deaths_since_sept_per100k    avg_temp  gdp_per_capita   pop_density  \\\ncount                 212.000000  171.000000      200.000000    201.000000   \nmean                    7.635674   19.910217    17885.791503    326.578295   \nstd                    11.407682    7.283709    26650.498241   1488.559752   \nmin                     0.000000   -0.452322      126.924921      0.136492   \n25%                     0.065787   13.509340     2121.690356     37.082592   \n50%                     1.314206   22.823381     6916.301173     88.530570   \n75%                    11.682601   25.586935    23141.109196    218.831818   \nmax                    60.372024   30.771000   185829.017960  19196.000000   \n\n         med_beds  physicians  pop_above_65  traffic_mortality        PM25  \\\ncount  189.000000  194.000000    184.000000         168.000000  187.000000   \nmean     3.049534    1.863977      9.135931          17.065476   27.506042   \nstd      2.785252    1.666018      6.486272           9.304380   18.989965   \nmin      0.100000    0.014000      1.156549           0.000000    5.861331   \n25%      1.200000    0.405825      3.409298           9.275000   13.866916   \n50%      2.300000    1.567450      6.967951          16.000000   22.196055   \n75%      4.000000    2.888825     14.970975          25.075000   35.644394   \nmax     18.680000    8.421800     28.002049          35.900000   99.734374   \n\n        popData2019  \ncount  2.120000e+02  \nmean   3.618040e+07  \nstd    1.408768e+08  \nmin    8.150000e+02  \n25%    8.696470e+05  \n50%    6.816581e+06  \n75%    2.533154e+07  \nmax    1.433784e+09  ",
      "text/html": "<div>\n<style scoped>\n    .dataframe tbody tr th:only-of-type {\n        vertical-align: middle;\n    }\n\n    .dataframe tbody tr th {\n        vertical-align: top;\n    }\n\n    .dataframe thead th {\n        text-align: right;\n    }\n</style>\n<table border=\"1\" class=\"dataframe\">\n  <thead>\n    <tr style=\"text-align: right;\">\n      <th></th>\n      <th>percent_of_oct_cases_in_oct_and_sept</th>\n      <th>percent_of_oct_deaths_in_oct_and_sept</th>\n      <th>cases_since_sept_per100k</th>\n      <th>deaths_since_sept_per100k</th>\n      <th>avg_temp</th>\n      <th>gdp_per_capita</th>\n      <th>pop_density</th>\n      <th>med_beds</th>\n      <th>physicians</th>\n      <th>pop_above_65</th>\n      <th>traffic_mortality</th>\n      <th>PM25</th>\n      <th>popData2019</th>\n    </tr>\n  </thead>\n  <tbody>\n    <tr>\n      <th>count</th>\n      <td>208.000000</td>\n      <td>173.000000</td>\n      <td>212.000000</td>\n      <td>212.000000</td>\n      <td>171.000000</td>\n      <td>200.000000</td>\n      <td>201.000000</td>\n      <td>189.000000</td>\n      <td>194.000000</td>\n      <td>184.000000</td>\n      <td>168.000000</td>\n      <td>187.000000</td>\n      <td>2.120000e+02</td>\n    </tr>\n    <tr>\n      <th>mean</th>\n      <td>0.682832</td>\n      <td>0.661124</td>\n      <td>632.542397</td>\n      <td>7.635674</td>\n      <td>19.910217</td>\n      <td>17885.791503</td>\n      <td>326.578295</td>\n      <td>3.049534</td>\n      <td>1.863977</td>\n      <td>9.135931</td>\n      <td>17.065476</td>\n      <td>27.506042</td>\n      <td>3.618040e+07</td>\n    </tr>\n    <tr>\n      <th>std</th>\n      <td>0.207900</td>\n      <td>0.253320</td>\n      <td>934.702442</td>\n      <td>11.407682</td>\n      <td>7.283709</td>\n      <td>26650.498241</td>\n      <td>1488.559752</td>\n      <td>2.785252</td>\n      <td>1.666018</td>\n      <td>6.486272</td>\n      <td>9.304380</td>\n      <td>18.989965</td>\n      <td>1.408768e+08</td>\n    </tr>\n    <tr>\n      <th>min</th>\n      <td>0.000000</td>\n      <td>0.000000</td>\n      <td>0.000000</td>\n      <td>0.000000</td>\n      <td>-0.452322</td>\n      <td>126.924921</td>\n      <td>0.136492</td>\n      <td>0.100000</td>\n      <td>0.014000</td>\n      <td>1.156549</td>\n      <td>0.000000</td>\n      <td>5.861331</td>\n      <td>8.150000e+02</td>\n    </tr>\n    <tr>\n      <th>25%</th>\n      <td>0.549460</td>\n      <td>0.513710</td>\n      <td>16.113487</td>\n      <td>0.065787</td>\n      <td>13.509340</td>\n      <td>2121.690356</td>\n      <td>37.082592</td>\n      <td>1.200000</td>\n      <td>0.405825</td>\n      <td>3.409298</td>\n      <td>9.275000</td>\n      <td>13.866916</td>\n      <td>8.696470e+05</td>\n    </tr>\n    <tr>\n      <th>50%</th>\n      <td>0.694502</td>\n      <td>0.666667</td>\n      <td>178.221356</td>\n      <td>1.314206</td>\n      <td>22.823381</td>\n      <td>6916.301173</td>\n      <td>88.530570</td>\n      <td>2.300000</td>\n      <td>1.567450</td>\n      <td>6.967951</td>\n      <td>16.000000</td>\n      <td>22.196055</td>\n      <td>6.816581e+06</td>\n    </tr>\n    <tr>\n      <th>75%</th>\n      <td>0.852532</td>\n      <td>0.871287</td>\n      <td>914.870612</td>\n      <td>11.682601</td>\n      <td>25.586935</td>\n      <td>23141.109196</td>\n      <td>218.831818</td>\n      <td>4.000000</td>\n      <td>2.888825</td>\n      <td>14.970975</td>\n      <td>25.075000</td>\n      <td>35.644394</td>\n      <td>2.533154e+07</td>\n    </tr>\n    <tr>\n      <th>max</th>\n      <td>1.000000</td>\n      <td>1.000000</td>\n      <td>6232.852436</td>\n      <td>60.372024</td>\n      <td>30.771000</td>\n      <td>185829.017960</td>\n      <td>19196.000000</td>\n      <td>18.680000</td>\n      <td>8.421800</td>\n      <td>28.002049</td>\n      <td>35.900000</td>\n      <td>99.734374</td>\n      <td>1.433784e+09</td>\n    </tr>\n  </tbody>\n</table>\n</div>"
     },
     "execution_count": 31,
     "metadata": {},
     "output_type": "execute_result"
    }
   ],
   "source": [
    "dataset.describe()"
   ],
   "metadata": {
    "collapsed": false,
    "pycharm": {
     "name": "#%%\n"
    }
   }
  },
  {
   "cell_type": "markdown",
   "source": [
    "Przypadki brakujące dla każdej kolumny"
   ],
   "metadata": {
    "collapsed": false,
    "pycharm": {
     "name": "#%% md\n"
    }
   }
  },
  {
   "cell_type": "code",
   "execution_count": 32,
   "outputs": [
    {
     "data": {
      "text/plain": "countriesAndTerritories       0\ncountryterritoryCode          0\ncases_since_sept_per100k      0\ndeaths_since_sept_per100k     0\navg_temp                     41\ngdp_per_capita               12\npop_density                  11\nmed_beds                     23\nphysicians                   18\npop_above_65                 28\ntraffic_mortality            44\nPM25                         25\npopData2019                   0\ndtype: int64"
     },
     "execution_count": 32,
     "metadata": {},
     "output_type": "execute_result"
    }
   ],
   "source": [
    "dataset.drop(columns=['percent_of_oct_cases_in_oct_and_sept', 'percent_of_oct_deaths_in_oct_and_sept']).isna().sum()"
   ],
   "metadata": {
    "collapsed": false,
    "pycharm": {
     "name": "#%%\n"
    }
   }
  },
  {
   "cell_type": "code",
   "execution_count": 33,
   "outputs": [],
   "source": [
    "imputer = KNNImputer(n_neighbors=10)\n",
    "labels = dataset[['percent_of_oct_cases_in_oct_and_sept',\n",
    "                'percent_of_oct_deaths_in_oct_and_sept',\n",
    "                'countriesAndTerritories',\n",
    "                'countryterritoryCode',\n",
    "                'cases_since_sept_per100k',\n",
    "                'deaths_since_sept_per100k']]\n",
    "dataset_filled = dataset.drop(columns=['countriesAndTerritories',\n",
    "                                       'countryterritoryCode',\n",
    "                                       'percent_of_oct_cases_in_oct_and_sept',\n",
    "                                       'percent_of_oct_deaths_in_oct_and_sept',\n",
    "                                       'cases_since_sept_per100k',\n",
    "                                       'deaths_since_sept_per100k'])\n",
    "\n",
    "for column in dataset_filled.columns:\n",
    "    column_mean = dataset_filled[column].mean()\n",
    "    column_std = dataset_filled[column].std()\n",
    "    dataset_filled[column] = (dataset_filled[column] - column_mean) / column_std\n",
    "\n",
    "dataset_filled = pd.DataFrame(imputer.fit_transform(dataset_filled),\n",
    "                  columns=dataset_filled.columns)\n",
    "\n",
    "for column in dataset_filled:\n",
    "    column_mean = dataset_filled[column].mean()\n",
    "    column_std = dataset_filled[column].std()\n",
    "    dataset_filled[column] = dataset_filled[column] * column_std + column_mean"
   ],
   "metadata": {
    "collapsed": false,
    "pycharm": {
     "name": "#%%\n"
    }
   }
  },
  {
   "cell_type": "code",
   "execution_count": 34,
   "outputs": [
    {
     "name": "stdout",
     "output_type": "stream",
     "text": [
      "<class 'pandas.core.frame.DataFrame'>\n",
      "Int64Index: 212 entries, 0 to 211\n",
      "Data columns (total 15 columns):\n",
      " #   Column                                 Non-Null Count  Dtype  \n",
      "---  ------                                 --------------  -----  \n",
      " 0   countryterritoryCode                   212 non-null    object \n",
      " 1   countriesAndTerritories                212 non-null    object \n",
      " 2   percent_of_oct_cases_in_oct_and_sept   208 non-null    float64\n",
      " 3   percent_of_oct_deaths_in_oct_and_sept  173 non-null    float64\n",
      " 4   cases_since_sept_per100k               212 non-null    float64\n",
      " 5   deaths_since_sept_per100k              212 non-null    float64\n",
      " 6   avg_temp                               212 non-null    float64\n",
      " 7   gdp_per_capita                         212 non-null    float64\n",
      " 8   pop_density                            212 non-null    float64\n",
      " 9   med_beds                               212 non-null    float64\n",
      " 10  physicians                             212 non-null    float64\n",
      " 11  pop_above_65                           212 non-null    float64\n",
      " 12  traffic_mortality                      212 non-null    float64\n",
      " 13  PM25                                   212 non-null    float64\n",
      " 14  popData2019                            212 non-null    float64\n",
      "dtypes: float64(13), object(2)\n",
      "memory usage: 26.5+ KB\n"
     ]
    }
   ],
   "source": [
    "dataset_filled = pd.concat([labels, dataset_filled], axis=1)\n",
    "first_cols = dataset_filled[['countriesAndTerritories', 'countryterritoryCode']]\n",
    "dataset_filled.drop(columns=['countriesAndTerritories', 'countryterritoryCode'], inplace=True)\n",
    "dataset_filled.insert(0, 'countriesAndTerritories', first_cols['countriesAndTerritories'])\n",
    "dataset_filled.insert(0, 'countryterritoryCode', first_cols['countryterritoryCode'])\n",
    "dataset_filled.info()\n",
    "dataset_filled.drop(columns=['popData2019'], inplace=True)\n",
    "dataset_filled.to_pickle('final_filled_n_10_dataset.pkl')"
   ],
   "metadata": {
    "collapsed": false,
    "pycharm": {
     "name": "#%%\n"
    }
   }
  },
  {
   "cell_type": "code",
   "execution_count": 35,
   "outputs": [
    {
     "name": "stdout",
     "output_type": "stream",
     "text": [
      "Unusual values for key: percent_of_oct_cases_in_oct_and_sept\n",
      "    countriesAndTerritories countryterritoryCode  \\\n",
      "28   British_Virgin_Islands                  VGB   \n",
      "161   Saint_Kitts_and_Nevis                  KNA   \n",
      "\n",
      "     percent_of_oct_cases_in_oct_and_sept  \n",
      "28                               0.028571  \n",
      "161                              0.000000  \n",
      "Unusual values for key: percent_of_oct_deaths_in_oct_and_sept\n",
      "Brak wartości nietypowych\n",
      "Unusual values for key: cases_since_sept_per100k\n",
      "    countriesAndTerritories countryterritoryCode  cases_since_sept_per100k\n",
      "3                   Andorra                  AND               6232.852436\n",
      "18                  Belgium                  BEL               3932.095962\n",
      "51                  Czechia                  CZE               4091.616744\n",
      "70         French_Polynesia                  PYF               4041.033353\n",
      "130              Montenegro                  MNE               3598.143309\n",
      "Unusual values for key: deaths_since_sept_per100k\n",
      "    countriesAndTerritories countryterritoryCode  deaths_since_sept_per100k\n",
      "7                 Argentina                  ARG                  60.372024\n",
      "51                  Czechia                  CZE                  54.320269\n",
      "80                     Guam                  GUM                  52.601692\n",
      "130              Montenegro                  MNE                  47.092330\n",
      "Unusual values for key: avg_temp\n",
      "Brak wartości nietypowych\n",
      "Unusual values for key: gdp_per_capita\n",
      "    countriesAndTerritories countryterritoryCode  gdp_per_capita\n",
      "114           Liechtenstein                  LIE        5.992639\n",
      "116              Luxembourg                  LUX        3.752950\n",
      "128                  Monaco                  MCO        6.468937\n",
      "Unusual values for key: pop_density\n",
      "    countriesAndTerritories countryterritoryCode  pop_density\n",
      "128                  Monaco                  MCO    12.697284\n",
      "171               Singapore                  SGP     5.152852\n",
      "Unusual values for key: med_beds\n",
      "          countriesAndTerritories countryterritoryCode  med_beds\n",
      "78                      Greenland                  GRL  3.945652\n",
      "100                         Japan                  JPN  3.615761\n",
      "128                        Monaco                  MCO  3.754167\n",
      "178                   South_Korea                  KOR  2.958332\n",
      "201  United_States_Virgin_Islands                  VIR  5.442722\n",
      "Unusual values for key: physicians\n",
      "    countriesAndTerritories countryterritoryCode  physicians\n",
      "48                     Cuba                  CUB    3.841142\n",
      "73                  Georgia                  GEO    3.083461\n",
      "128                  Monaco                  MCO    3.308489\n",
      "Unusual values for key: pop_above_65\n",
      "Brak wartości nietypowych\n",
      "Unusual values for key: traffic_mortality\n",
      "Brak wartości nietypowych\n",
      "Unusual values for key: PM25\n",
      "    countriesAndTerritories countryterritoryCode      PM25\n",
      "58                    Egypt                  EGY  2.945994\n",
      "91                    India                  IND  3.140734\n",
      "136                   Nepal                  NPL  3.586198\n",
      "141                   Niger                  NER  3.300628\n",
      "157                   Qatar                  QAT  3.156525\n",
      "166            Saudi_Arabia                  SAU  2.993551\n"
     ]
    }
   ],
   "source": [
    "for key, data in dataset_filled.iteritems():\n",
    "    if key not in ['countriesAndTerritories', 'countryterritoryCode']:\n",
    "        print('Unusual values for key: ' + key)\n",
    "        mean = data.mean()\n",
    "        std = data.std()\n",
    "        vals_series = data[(data <= mean - 3.0 * std) | (data >= mean + 3.0 * std)].index\n",
    "        df = dataset_filled.loc[vals_series.values][['countriesAndTerritories', 'countryterritoryCode', key]]\n",
    "        if df.empty:\n",
    "            print('Brak wartości nietypowych')\n",
    "        else:\n",
    "            print(df)"
   ],
   "metadata": {
    "collapsed": false,
    "pycharm": {
     "name": "#%%\n"
    }
   }
  }
 ],
 "metadata": {
  "kernelspec": {
   "display_name": "Python 3",
   "language": "python",
   "name": "python3"
  },
  "language_info": {
   "codemirror_mode": {
    "name": "ipython",
    "version": 2
   },
   "file_extension": ".py",
   "mimetype": "text/x-python",
   "name": "python",
   "nbconvert_exporter": "python",
   "pygments_lexer": "ipython2",
   "version": "2.7.6"
  }
 },
 "nbformat": 4,
 "nbformat_minor": 0
}