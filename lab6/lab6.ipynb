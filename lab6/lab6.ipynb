{
 "cells": [
  {
   "cell_type": "code",
   "execution_count": 1,
   "metadata": {
    "collapsed": true
   },
   "outputs": [],
   "source": [
    "import sklearn.datasets as skd\n",
    "import pandas as pd\n",
    "import numpy as np"
   ]
  },
  {
   "cell_type": "code",
   "execution_count": 2,
   "outputs": [],
   "source": [
    "dataset = skd.fetch_20newsgroups()"
   ],
   "metadata": {
    "collapsed": false,
    "pycharm": {
     "name": "#%%\n"
    }
   }
  },
  {
   "cell_type": "code",
   "execution_count": 3,
   "outputs": [],
   "source": [
    "idx = np.random.randint(0, len(dataset.target), 2000)\n",
    "idx_test = idx[0:1000]\n",
    "idx_train = idx[1000:2000]\n",
    "train, test = [dataset.data[idx] for idx in idx_train], [dataset.data[idx] for idx in idx_test]\n",
    "train_target, test_target = [dataset.target[idx] for idx in idx_train], [dataset.target[idx] for idx in idx_test]"
   ],
   "metadata": {
    "collapsed": false,
    "pycharm": {
     "name": "#%%\n"
    }
   }
  },
  {
   "cell_type": "code",
   "source": [
    "import sklearn.feature_extraction.text as txt\n",
    "\n",
    "hashing = txt.HashingVectorizer()\n",
    "vec_train = hashing.fit_transform(train)\n",
    "vec_test = hashing.transform(test)"
   ],
   "metadata": {
    "collapsed": false,
    "pycharm": {
     "name": "#%%\n"
    }
   },
   "execution_count": 4,
   "outputs": []
  },
  {
   "cell_type": "code",
   "execution_count": 5,
   "outputs": [],
   "source": [
    "tfid = txt.TfidfTransformer()\n",
    "tfid_train = tfid.fit_transform(vec_train)\n",
    "tfid_test = tfid.transform(vec_test)"
   ],
   "metadata": {
    "collapsed": false,
    "pycharm": {
     "name": "#%%\n"
    }
   }
  },
  {
   "cell_type": "code",
   "execution_count": 6,
   "outputs": [],
   "source": [
    "from sklearn.neighbors import KNeighborsClassifier\n",
    "from sklearn.metrics import accuracy_score\n",
    "\n",
    "def nontfid_acc_for_metric(metric_to_test):\n",
    "    neigh = KNeighborsClassifier(metric=metric_to_test)\n",
    "    neigh.fit(vec_train, train_target)\n",
    "\n",
    "    test_predict = neigh.predict(vec_test)\n",
    "    print(\"nontfid acc: %lf\"%(accuracy_score(test_target, test_predict)))"
   ],
   "metadata": {
    "collapsed": false,
    "pycharm": {
     "name": "#%%\n"
    }
   }
  },
  {
   "cell_type": "code",
   "execution_count": 7,
   "outputs": [],
   "source": [
    "def tfid_acc_for_metric(metric_to_test):\n",
    "    neigh = KNeighborsClassifier(metric=metric_to_test)\n",
    "    neigh.fit(tfid_train, train_target)\n",
    "\n",
    "    test_predict = neigh.predict(tfid_test)\n",
    "    print(\"tfid acc: %lf\"%(accuracy_score(test_target, test_predict)))"
   ],
   "metadata": {
    "collapsed": false,
    "pycharm": {
     "name": "#%%\n"
    }
   }
  },
  {
   "cell_type": "code",
   "execution_count": 8,
   "outputs": [
    {
     "name": "stdout",
     "output_type": "stream",
     "text": [
      "euclidean\n",
      "nontfid acc: 0.315000\n",
      "tfid acc: 0.561000\n",
      "manhattan\n",
      "nontfid acc: 0.272000\n",
      "tfid acc: 0.170000\n",
      "minkowski\n",
      "nontfid acc: 0.315000\n",
      "tfid acc: 0.561000\n"
     ]
    }
   ],
   "source": [
    "metrics = ['euclidean', 'manhattan', 'minkowski']\n",
    "\n",
    "for metric in metrics:\n",
    "    print(metric)\n",
    "    nontfid_acc_for_metric(metric)\n",
    "    tfid_acc_for_metric(metric)"
   ],
   "metadata": {
    "collapsed": false,
    "pycharm": {
     "name": "#%%\n"
    }
   }
  }
 ],
 "metadata": {
  "kernelspec": {
   "display_name": "Python 3",
   "language": "python",
   "name": "python3"
  },
  "language_info": {
   "codemirror_mode": {
    "name": "ipython",
    "version": 2
   },
   "file_extension": ".py",
   "mimetype": "text/x-python",
   "name": "python",
   "nbconvert_exporter": "python",
   "pygments_lexer": "ipython2",
   "version": "2.7.6"
  }
 },
 "nbformat": 4,
 "nbformat_minor": 0
}